{
 "cells": [
  {
   "cell_type": "code",
   "execution_count": 1,
   "id": "96ad3a4a",
   "metadata": {},
   "outputs": [],
   "source": [
    "import pandas as pd"
   ]
  },
  {
   "cell_type": "markdown",
   "id": "bbb19d03",
   "metadata": {},
   "source": [
    "# Define a Data Pipeline"
   ]
  },
  {
   "cell_type": "code",
   "execution_count": 20,
   "id": "626d8315",
   "metadata": {},
   "outputs": [],
   "source": [
    "class DataPipeline:\n",
    "    @staticmethod\n",
    "    def readFiles(file_path):\n",
    "        \"\"\"\n",
    "        The function can load the file into one dataframe\n",
    "        parameter: file_path - the target file's locations\n",
    "        return: result_df\n",
    "        \"\"\"\n",
    "        print(f\"Processing: {file_path}\")\n",
    "        # Read file with all values as strings\n",
    "        result_df = pd.read_csv(file_path, dtype=str, low_memory=False)\n",
    "        print(\"✅ File loaded: Total \", len(result_df), \" rows.\")\n",
    "        return result_df\n",
    "\n",
    "    @staticmethod\n",
    "    def filterData(df, filter_dict, use_regex=False):\n",
    "        \"\"\"\n",
    "        filter function to apply multiple filters to a DataFrame.\n",
    "\n",
    "        Parameters:\n",
    "            df (pd.DataFrame): The DataFrame to filter.\n",
    "            filter_dict (dict): Dictionary with:\n",
    "                - key: column name\n",
    "                - value: list of exact match values OR regex patterns\n",
    "            use_regex (bool): If True, values in filter_dict will be interpreted as regex patterns.\n",
    "\n",
    "        Returns:\n",
    "            pd.DataFrame: Filtered DataFrame.\n",
    "        \"\"\"\n",
    "        filtered_df = df.copy()\n",
    "        for col, patterns in filter_dict.items():\n",
    "            if col not in filtered_df.columns:\n",
    "                print(f\"⚠️ Column '{col}' not found in DataFrame. Skipping.\")\n",
    "                continue\n",
    "\n",
    "            if use_regex:\n",
    "                combined_pattern = \"|\".join(patterns)\n",
    "                filtered_df = filtered_df[filtered_df[col].str.contains(combined_pattern, regex=True, na=False)]\n",
    "            else:\n",
    "                filtered_df = filtered_df[filtered_df[col].isin(patterns)]\n",
    "\n",
    "        print(f\"✅ Filter applied: {len(filtered_df)} rows retained.\")\n",
    "        return filtered_df\n",
    "\n",
    "\n",
    "    @staticmethod\n",
    "    def combineFiles(df_list):\n",
    "        \"\"\"\n",
    "        Combine multiple DataFrames into one.\n",
    "        \n",
    "        Parameters:\n",
    "            df_list (list of pd.DataFrame): List of DataFrames.\n",
    "        \n",
    "        Returns:\n",
    "            pd.DataFrame: Combined DataFrame.\n",
    "        \"\"\"\n",
    "        print(f\"🔗 Combining {len(df_list)} dataframes...\")\n",
    "        combined_df = pd.concat(df_list, ignore_index=True)\n",
    "        print(f\"✅ Combined DataFrame has {len(combined_df)} rows.\")\n",
    "        return combined_df\n",
    "\n",
    "    @staticmethod\n",
    "    def downloadFiles(output_df, file_path, format=\"csv\"):\n",
    "        \"\"\"\n",
    "        Save a DataFrame to file.\n",
    "        \n",
    "        Parameters:\n",
    "            output_df (pd.DataFrame): Data to save.\n",
    "            file_path (str): Output path.\n",
    "            format (str): File format. Default is \"csv\".\n",
    "        \n",
    "        Returns:\n",
    "            None\n",
    "        \"\"\"\n",
    "        if format == \"csv\":\n",
    "            output_df.to_csv(file_path, index=False)\n",
    "            print(f\"✅ File saved as CSV: {file_path}\")\n",
    "        else:\n",
    "            raise ValueError(f\"Unsupported format: {format}\")"
   ]
  },
  {
   "cell_type": "markdown",
   "id": "f8844720",
   "metadata": {},
   "source": [
    "# Filter Religious Organizations from IRS BMF Files\n",
    "According to the description of National Taxonomy of Exempt Entities (NTEE) Code in the [eo-info file, P14](https://www.irs.gov/pub/irs-soi/eo-info.pdf), X is Religion-Related."
   ]
  },
  {
   "cell_type": "code",
   "execution_count": 3,
   "id": "506e1781",
   "metadata": {},
   "outputs": [],
   "source": [
    "# List of IRS CSV files\n",
    "DATA_ROOT = \"Data/\"\n",
    "# List of IRS BMF data files\n",
    "LIST_OF_IRS_CSV = [DATA_ROOT + i for i in [\"eo1.csv\", \"eo2.csv\", \"eo3.csv\", \"eo4.csv\"]]\n",
    "# The 13 southern and southeastern states of interest\n",
    "target_states = ['AL', 'AR', 'DC', 'FL', 'GA', 'KY', 'LA', 'MS',\n",
    "                 'NC', 'SC', 'TN', 'VA', 'WV']"
   ]
  },
  {
   "cell_type": "code",
   "execution_count": 7,
   "id": "bb4b3708",
   "metadata": {},
   "outputs": [
    {
     "name": "stdout",
     "output_type": "stream",
     "text": [
      "Processing: Data/eo1.csv\n",
      "✅ File loaded: Total  269061  rows.\n",
      "Processing: Data/eo2.csv\n",
      "✅ File loaded: Total  696938  rows.\n",
      "Processing: Data/eo3.csv\n",
      "✅ File loaded: Total  916530  rows.\n",
      "Processing: Data/eo4.csv\n",
      "✅ File loaded: Total  4520  rows.\n",
      "🔗 Combining 4 dataframes...\n",
      "✅ Combined DataFrame has 1887049 rows.\n",
      "✅ Filter applied: 188991 rows retained.\n",
      "✅ Filter applied: 55576 rows retained.\n"
     ]
    }
   ],
   "source": [
    "# Step 1: Read each file into a DataFrame\n",
    "irs_dfs = [DataPipeline.readFiles(f) for f in LIST_OF_IRS_CSV]\n",
    "\n",
    "# Step 2: Combine all IRS DataFrames into a single table\n",
    "irs_combined = DataPipeline.combineFiles(irs_dfs)\n",
    "\n",
    "# Step 3: Define regex filters to identify religious organizations\n",
    "# - NTEE_CD starts with 'X'\n",
    "# - CLASSIFICATION includes '07'\n",
    "# - FILING_REQ_CD is '06' or '13'\n",
    "religious_regex_filters = {\n",
    "    \"NTEE_CD\": [\"^X\"]\n",
    "}\n",
    "\n",
    "# Apply regex filtering to find religious organizations\n",
    "religious_df = DataPipeline.filterData(irs_combined, religious_regex_filters, use_regex=True)\n",
    "\n",
    "# Step 4: Define state filter for the 13 target states\n",
    "state_filters = {\"STATE\": target_states}\n",
    "\n",
    "# Apply filtering to get only religious orgs in the target states\n",
    "filtered_irs_df = DataPipeline.filterData(religious_df, state_filters, use_regex=False)"
   ]
  },
  {
   "cell_type": "code",
   "execution_count": 22,
   "id": "81ac12cf",
   "metadata": {},
   "outputs": [
    {
     "name": "stdout",
     "output_type": "stream",
     "text": [
      "✅ File saved as CSV: Data/all_religion_groups_13states.csv\n"
     ]
    }
   ],
   "source": [
    "DataPipeline.downloadFiles(filtered_irs_df, \"Data/all_religion_groups_13states.csv\")"
   ]
  },
  {
   "cell_type": "markdown",
   "id": "70eaafa7",
   "metadata": {},
   "source": [
    "# Load and Filter K–12 School Data"
   ]
  },
  {
   "cell_type": "markdown",
   "id": "7877d9a3",
   "metadata": {},
   "source": [
    "## ✅ Part A: Handle Public Schools"
   ]
  },
  {
   "cell_type": "code",
   "execution_count": 8,
   "id": "9531dcc7",
   "metadata": {},
   "outputs": [],
   "source": [
    "# Public school file (2023–24), already downloaded\n",
    "public_school_path = DATA_ROOT + \"ccd_sch_029_2324_w_1a_073124.csv\""
   ]
  },
  {
   "cell_type": "code",
   "execution_count": 9,
   "id": "4f210cdd",
   "metadata": {},
   "outputs": [
    {
     "name": "stdout",
     "output_type": "stream",
     "text": [
      "Processing: Data/ccd_sch_029_2324_w_1a_073124.csv\n",
      "✅ File loaded: Total  102274  rows.\n",
      "✅ Filter applied: 22350 rows retained.\n"
     ]
    }
   ],
   "source": [
    "# Load with DataPipeline\n",
    "public_df = DataPipeline.readFiles(public_school_path)\n",
    "# Use state filter\n",
    "public_filtered = DataPipeline.filterData(public_df, {\"ST\": target_states}, use_regex=False)"
   ]
  },
  {
   "cell_type": "markdown",
   "id": "9d21bc97",
   "metadata": {},
   "source": [
    "## ✅ Part B: Handle Private Schools"
   ]
  },
  {
   "cell_type": "code",
   "execution_count": 12,
   "id": "793c0b14",
   "metadata": {},
   "outputs": [
    {
     "name": "stdout",
     "output_type": "stream",
     "text": [
      "Processing: Data/pss2122_pu.csv\n",
      "✅ File loaded: Total  22345  rows.\n",
      "✅ Filter applied: 5703 rows retained.\n"
     ]
    }
   ],
   "source": [
    "# Private school file (2021–22)\n",
    "private_school_path = DATA_ROOT + \"pss2122_pu.csv\"\n",
    "# Load with DataPipeline\n",
    "private_df = DataPipeline.readFiles(private_school_path)\n",
    "core_columns = [\"PINST\", \"PADDRS\", \"PCITY\", \"PSTABB\", \"PZIP\", \"PPHONE\", \"LATITUDE22\", \"LONGITUDE22\", \"RELIG\"]\n",
    "private_df = private_df[core_columns]\n",
    "# Use state filter\n",
    "private_filtered = DataPipeline.filterData(private_df, {\"PSTABB\": target_states}, use_regex=False)"
   ]
  },
  {
   "cell_type": "markdown",
   "id": "dd4cb881",
   "metadata": {},
   "source": [
    "## ✅ Part C: Combination"
   ]
  },
  {
   "cell_type": "code",
   "execution_count": 13,
   "id": "e2287fde",
   "metadata": {},
   "outputs": [],
   "source": [
    "# Reload private data with exact fields as specified by the user\n",
    "private_selected_strict = private_filtered[[\n",
    "    \"PINST\", \"PADDRS\", \"PCITY\", \"PSTABB\", \"PZIP\", \"PPHONE\", \"LATITUDE22\", \"LONGITUDE22\", \"RELIG\"\n",
    "]].rename(columns={\n",
    "    \"PINST\": \"School_Name\",\n",
    "    \"PADDRS\": \"Address\",\n",
    "    \"PCITY\": \"City\",\n",
    "    \"PSTABB\": \"State\",\n",
    "    \"PZIP\": \"Zip\",\n",
    "    \"PPHONE\": \"Phone\",\n",
    "    \"LATITUDE22\": \"Latitude\",\n",
    "    \"LONGITUDE22\": \"Longitude\",\n",
    "    \"RELIG\": \"Religious_Affiliation\"\n",
    "})\n",
    "private_selected_strict[\"School_Type\"] = \"Private\"\n",
    "private_selected_strict[\"Website\"] = None\n",
    "private_selected_strict[\"District_Name\"] = None\n",
    "\n",
    "# Update public data to match private data structure\n",
    "public_selected_strict = public_filtered[[\n",
    "    \"SCH_NAME\", \"MSTREET1\", \"LCITY\", \"ST\", \"LZIP\", \"PHONE\", \"WEBSITE\"\n",
    "]].rename(columns={\n",
    "    \"SCH_NAME\": \"School_Name\",\n",
    "    \"MSTREET1\": \"Address\",\n",
    "    \"LCITY\": \"City\",\n",
    "    \"ST\": \"State\",\n",
    "    \"LZIP\": \"Zip\",\n",
    "    \"PHONE\": \"Phone\",\n",
    "    \"WEBSITE\": \"Website\"\n",
    "})\n",
    "public_selected_strict[\"Latitude\"] = None\n",
    "public_selected_strict[\"Longitude\"] = None\n",
    "public_selected_strict[\"Religious_Affiliation\"] = None\n",
    "public_selected_strict[\"School_Type\"] = \"Public\"\n",
    "public_selected_strict[\"District_Name\"] = public_df[\"LEA_NAME\"]\n",
    "\n",
    "# Reorder columns to match\n",
    "ordered_columns = [\n",
    "    \"School_Name\", \"Address\", \"City\", \"State\", \"Zip\", \"Phone\",\n",
    "    \"Latitude\", \"Longitude\", \"Website\", \"Religious_Affiliation\", \"School_Type\", \"District_Name\"\n",
    "]\n",
    "public_final = public_selected_strict[ordered_columns]\n",
    "private_final = private_selected_strict[ordered_columns]\n",
    "\n",
    "# Combine the datasets\n",
    "combined_school_final = pd.concat([public_final, private_final], ignore_index=True)"
   ]
  },
  {
   "cell_type": "code",
   "execution_count": 15,
   "id": "1a86fe80",
   "metadata": {},
   "outputs": [
    {
     "data": {
      "text/plain": [
       "True"
      ]
     },
     "execution_count": 15,
     "metadata": {},
     "output_type": "execute_result"
    }
   ],
   "source": [
    "len(combined_school_final)==len(public_filtered)+len(private_filtered)"
   ]
  },
  {
   "cell_type": "code",
   "execution_count": 18,
   "id": "0ac5bb81",
   "metadata": {},
   "outputs": [
    {
     "data": {
      "text/plain": [
       "Index(['School_Name', 'Address', 'City', 'State', 'Zip', 'Phone', 'Latitude',\n",
       "       'Longitude', 'Website', 'Religious_Affiliation', 'School_Type',\n",
       "       'District_Name'],\n",
       "      dtype='object')"
      ]
     },
     "execution_count": 18,
     "metadata": {},
     "output_type": "execute_result"
    }
   ],
   "source": [
    "combined_school_final.columns"
   ]
  },
  {
   "cell_type": "code",
   "execution_count": 21,
   "id": "f287ebf4",
   "metadata": {},
   "outputs": [
    {
     "name": "stdout",
     "output_type": "stream",
     "text": [
      "✅ File saved as CSV: Data/all_k12_schools_13states.csv\n"
     ]
    }
   ],
   "source": [
    "DataPipeline.downloadFiles(combined_school_final, \"Data/all_k12_schools_13states.csv\")"
   ]
  }
 ],
 "metadata": {
  "kernelspec": {
   "display_name": "Python 3 (ipykernel)",
   "language": "python",
   "name": "python3"
  },
  "language_info": {
   "codemirror_mode": {
    "name": "ipython",
    "version": 3
   },
   "file_extension": ".py",
   "mimetype": "text/x-python",
   "name": "python",
   "nbconvert_exporter": "python",
   "pygments_lexer": "ipython3",
   "version": "3.11.4"
  }
 },
 "nbformat": 4,
 "nbformat_minor": 5
}
